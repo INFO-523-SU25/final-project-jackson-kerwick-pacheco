{
  "cells": [
    {
      "cell_type": "markdown",
      "metadata": {},
      "source": [
        "---\n",
        "title: \"Proposal title\"\n",
        "subtitle: \"Proposal\"\n",
        "author: \n",
        "  - name: \"Team Name - Vera Jackson, Molly Kerwick, Brooke Pacheco\"\n",
        "    affiliations:\n",
        "      - name: \"College of Information Science, University of Arizona\"\n",
        "description: \"Project description\"\n",
        "format:\n",
        "  html:\n",
        "    code-tools: true\n",
        "    code-overflow: wrap\n",
        "    code-line-numbers: true\n",
        "    embed-resources: true\n",
        "editor: visual\n",
        "code-annotations: hover\n",
        "execute:\n",
        "  warning: false\n",
        "jupyter: python3\n",
        "---"
      ],
      "id": "722f923d"
    },
    {
      "cell_type": "code",
      "metadata": {
        "message": false
      },
      "source": [
        "#| label: load-pkgs\n",
        "import numpy as np\n",
        "import pandas as pd\n",
        "import glob"
      ],
      "id": "load-pkgs",
      "execution_count": null,
      "outputs": []
    },
    {
      "cell_type": "markdown",
      "metadata": {},
      "source": [
        "## Datasets\n"
      ],
      "id": "91c12c11"
    },
    {
      "cell_type": "code",
      "metadata": {
        "message": false
      },
      "source": [
        "#| label: load-dataset\n",
        "\n",
        "# Storm Events\n",
        "\n",
        "df = pd.read_csv('data/StormEvents/StormEvents_locations-ftp_v1.0_d2024_c20250731.csv')\n",
        "\n",
        "df\n"
      ],
      "id": "load-dataset",
      "execution_count": null,
      "outputs": []
    },
    {
      "cell_type": "markdown",
      "metadata": {},
      "source": [
        "(A brief description of your dataset including its provenance, dimensions, etc. as well as the reason why you chose this dataset.\n",
        "\n",
        "Make sure to load the data and use inline code for some of this information.)\n"
      ],
      "id": "127b8162"
    },
    {
      "cell_type": "code",
      "metadata": {},
      "source": [
        "# NOAA Data\n",
        "\n",
        "# reading in data and\n",
        "file_location = \"data/NOAA/\"\n",
        "all_files = glob.glob(file_location + \"*.csv\")\n",
        "\n",
        "list_of_dfs = []\n",
        "\n",
        "for file in all_files:\n",
        "  df = pd.read_csv(file)\n",
        "  list_of_dfs.append(df)\n",
        "\n",
        "# merging data together into one data frame\n",
        "noaadata = pd.concat(list_of_dfs, ignore_index = True)"
      ],
      "id": "ad316484",
      "execution_count": null,
      "outputs": []
    },
    {
      "cell_type": "code",
      "metadata": {},
      "source": [
        "noaadata.head()"
      ],
      "id": "ae3fdede",
      "execution_count": null,
      "outputs": []
    },
    {
      "cell_type": "markdown",
      "metadata": {},
      "source": [
        "This data is a compilation of daily land surface observations within Arizona from [NOAA National Centers for Environmental Information] (https://www.ncdc.noaa.gov/cdo-web/datasets). This includes temperatures, precipitation, and snowfall. Some variables of importance includes latitude and longitude of station, \n",
        "(A brief description of your dataset including its provenance, dimensions, etc. as well as the reason why you chose this dataset.\n",
        "\n",
        "Make sure to load the data and use inline code for some of this information.)\n"
      ],
      "id": "2b6b8c1c"
    },
    {
      "cell_type": "code",
      "metadata": {},
      "source": [
        "# Traffic data sourced from https://www.fhwa.dot.gov/policyinformation/tables/tmasdata/ \n",
        "# with aggregate station data over all months from 2019 to 2023. FWHA changed their data\n",
        "# format in 2022, so the data are stored in two different formats\n",
        "\n",
        "# storing each year of traffic data as a dictionary of pd.DataFrames\n",
        "traffic_year = {}\n",
        "\n",
        "for year in np.arange(2019,2024):\n",
        "  df = pd.DataFrame()\n",
        "  if (year < 2022):   \n",
        "    # old data format\n",
        "    fname = f'data/Traffic/Station_Data_Extract_Pipe_Delimited_CleanData_{str(year)}.txt'\n",
        "    df = pd.read_csv(fname, sep='|', low_memory=False)\n",
        "    # For old format only, remove every entry where state_code != 04 (entries not in Arizona)\n",
        "    df = df[(df['State_Code'] == 4)]\n",
        "    df.columns = [x.lower() for x in df.columns]  # make columns lowercase like new data format\n",
        "  else:\n",
        "    # new data format\n",
        "    df = pd.read_csv('data/Traffic/AZ_2023 (TMAS).txt', sep='|')\n",
        "\n",
        "  df = df.reset_index()\n",
        "  traffic_year[year] = df\n"
      ],
      "id": "f7e651c7",
      "execution_count": null,
      "outputs": []
    },
    {
      "cell_type": "markdown",
      "metadata": {},
      "source": [
        "(A brief description of your dataset including its provenance, dimensions, etc. as well as the reason why you chose this dataset.\n",
        "\n",
        "Make sure to load the data and use inline code for some of this information.)\n",
        "\n",
        "\n",
        "\n",
        "\n",
        "\n",
        "To measure urbanization, we will use traffic volume as our metric.\n",
        "To measure environmental quality, we will use climate data \n",
        "\n",
        "\n",
        "\n",
        "## Questions\n",
        "\n",
        "The two questions you want to answer.\n",
        "\n",
        "1. Can we predict environmental quality of a region based on urbanization indicators for that region?\n",
        "2. Are storm event data and traffic data successful environmental health and urbanization indicators, respectively?\n",
        "\n",
        "## Analysis plan\n",
        "\n",
        "-   A plan for answering each of the questions including the variables involved, variables to be created (if any), external data to be merged in (if any)."
      ],
      "id": "f5922c6b"
    }
  ],
  "metadata": {
    "kernelspec": {
      "display_name": "Python 3",
      "language": "python",
      "name": "python3"
    }
  },
  "nbformat": 4,
  "nbformat_minor": 5
}