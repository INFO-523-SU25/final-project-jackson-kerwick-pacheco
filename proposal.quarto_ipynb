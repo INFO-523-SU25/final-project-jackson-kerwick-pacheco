{
  "cells": [
    {
      "cell_type": "markdown",
      "metadata": {},
      "source": [
        "---\n",
        "title: \"Proposal title\"\n",
        "subtitle: \"Proposal\"\n",
        "author: \n",
        "  - name: \"Team Name - Vera Jackson, Molly Kerwick, Brooke Pacheco\"\n",
        "    affiliations:\n",
        "      - name: \"College of Information Science, University of Arizona\"\n",
        "description: \"Project description\"\n",
        "format:\n",
        "  html:\n",
        "    code-tools: true\n",
        "    code-overflow: wrap\n",
        "    code-line-numbers: true\n",
        "    embed-resources: true\n",
        "editor: visual\n",
        "code-annotations: hover\n",
        "execute:\n",
        "  warning: false\n",
        "jupyter: python3\n",
        "---"
      ],
      "id": "78954be8"
    },
    {
      "cell_type": "code",
      "metadata": {
        "message": false
      },
      "source": [
        "#| label: load-pkgs\n",
        "import numpy as np"
      ],
      "id": "load-pkgs",
      "execution_count": null,
      "outputs": []
    },
    {
      "cell_type": "markdown",
      "metadata": {},
      "source": [
        "## Dataset\n"
      ],
      "id": "72873dad"
    },
    {
      "cell_type": "code",
      "metadata": {
        "message": false
      },
      "source": [
        "#| label: load-dataset\n"
      ],
      "id": "load-dataset",
      "execution_count": null,
      "outputs": []
    },
    {
      "cell_type": "markdown",
      "metadata": {},
      "source": [
        "(A brief description of your dataset including its provenance, dimensions, etc. as well as the reason why you chose this dataset.\n",
        "\n",
        "Make sure to load the data and use inline code for some of this information.)\n",
        "\n",
        "To measure urbanization, we will use traffic volume as our metric.\n",
        "To measure environmental quality, we will use climate data \n",
        "\n",
        "\n",
        "\n",
        "## Questions\n",
        "\n",
        "The two questions you want to answer.\n",
        "\n",
        "1. Can we predict environmental quality of a region based on urbanization indicators for that region?\n",
        "2. Are storm event data and traffic data successful environmental health and urbanization indicators, respectively?\n",
        "\n",
        "## Analysis plan\n",
        "\n",
        "-   A plan for answering each of the questions including the variables involved, variables to be created (if any), external data to be merged in (if any)."
      ],
      "id": "d753cea5"
    }
  ],
  "metadata": {
    "kernelspec": {
      "display_name": "Python 3",
      "language": "python",
      "name": "python3"
    }
  },
  "nbformat": 4,
  "nbformat_minor": 5
}